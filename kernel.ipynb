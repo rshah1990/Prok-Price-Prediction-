{
 "cells": [
  {
   "cell_type": "code",
   "execution_count": 1,
   "metadata": {
    "_uuid": "84a6452b8277aa30a7d281718cd28486864e6318"
   },
   "outputs": [
    {
     "name": "stderr",
     "output_type": "stream",
     "text": [
      "/opt/conda/lib/python3.6/site-packages/h5py/__init__.py:36: FutureWarning: Conversion of the second argument of issubdtype from `float` to `np.floating` is deprecated. In future, it will be treated as `np.float64 == np.dtype(float).type`.\n",
      "  from ._conv import register_converters as _register_converters\n"
     ]
    }
   ],
   "source": [
    "%matplotlib inline\n",
    "import matplotlib.pyplot as plt\n",
    "import tensorflow as tf\n",
    "import numpy as np\n",
    "import pandas as pd\n",
    "import os\n",
    "from sklearn.preprocessing import MinMaxScaler"
   ]
  },
  {
   "cell_type": "code",
   "execution_count": 2,
   "metadata": {
    "_uuid": "140d62e494e8cf2aa5743000bf661e156e3b0a24",
    "collapsed": true
   },
   "outputs": [],
   "source": [
    "# from tf.keras.models import Sequential  # This does not work!\n",
    "from tensorflow.python.keras.models import Sequential\n",
    "from tensorflow.python.keras.layers import Input, Dense, GRU, Embedding\n",
    "from tensorflow.python.keras.optimizers import RMSprop\n",
    "from tensorflow.python.keras.callbacks import EarlyStopping, ModelCheckpoint, TensorBoard, ReduceLROnPlateau"
   ]
  },
  {
   "cell_type": "code",
   "execution_count": 3,
   "metadata": {
    "_uuid": "9fe8cee29ba728e36a8b66d8d4be43c53f6ce1c7"
   },
   "outputs": [
    {
     "name": "stderr",
     "output_type": "stream",
     "text": [
      "/opt/conda/lib/python3.6/site-packages/ipykernel_launcher.py:4: SettingWithCopyWarning: \n",
      "A value is trying to be set on a copy of a slice from a DataFrame.\n",
      "Try using .loc[row_indexer,col_indexer] = value instead\n",
      "\n",
      "See the caveats in the documentation: http://pandas.pydata.org/pandas-docs/stable/indexing.html#indexing-view-versus-copy\n",
      "  after removing the cwd from sys.path.\n"
     ]
    },
    {
     "data": {
      "text/html": [
       "<div>\n",
       "<style scoped>\n",
       "    .dataframe tbody tr th:only-of-type {\n",
       "        vertical-align: middle;\n",
       "    }\n",
       "\n",
       "    .dataframe tbody tr th {\n",
       "        vertical-align: top;\n",
       "    }\n",
       "\n",
       "    .dataframe thead th {\n",
       "        text-align: right;\n",
       "    }\n",
       "</style>\n",
       "<table border=\"1\" class=\"dataframe\">\n",
       "  <thead>\n",
       "    <tr style=\"text-align: right;\">\n",
       "      <th></th>\n",
       "      <th>Beef_CS_LiveWgt_PerHd</th>\n",
       "      <th>Beef_CS_Slaughter_Cnt</th>\n",
       "      <th>Beef_ME_Exp_cwt</th>\n",
       "      <th>Beef_ME_Imp_cwt</th>\n",
       "      <th>OP_Electricity_Index</th>\n",
       "      <th>OP_Fuel_Oil_Index</th>\n",
       "      <th>OP_Utility_Gas_Index</th>\n",
       "      <th>OP_Gasoline_Index</th>\n",
       "      <th>OP_Soyabean_Index</th>\n",
       "      <th>OP_Hay_Alfalfa_Index</th>\n",
       "      <th>...</th>\n",
       "      <th>Extreme_Draught_Value</th>\n",
       "      <th>Dollar_Index</th>\n",
       "      <th>Egg_Index</th>\n",
       "      <th>Ground_Beef_Index</th>\n",
       "      <th>Round_Index</th>\n",
       "      <th>Beef_Steak_Index</th>\n",
       "      <th>Ham_Index</th>\n",
       "      <th>Pork_Chops_Index</th>\n",
       "      <th>Bacon_Index</th>\n",
       "      <th>Month</th>\n",
       "    </tr>\n",
       "    <tr>\n",
       "      <th>Date</th>\n",
       "      <th></th>\n",
       "      <th></th>\n",
       "      <th></th>\n",
       "      <th></th>\n",
       "      <th></th>\n",
       "      <th></th>\n",
       "      <th></th>\n",
       "      <th></th>\n",
       "      <th></th>\n",
       "      <th></th>\n",
       "      <th></th>\n",
       "      <th></th>\n",
       "      <th></th>\n",
       "      <th></th>\n",
       "      <th></th>\n",
       "      <th></th>\n",
       "      <th></th>\n",
       "      <th></th>\n",
       "      <th></th>\n",
       "      <th></th>\n",
       "      <th></th>\n",
       "    </tr>\n",
       "  </thead>\n",
       "  <tbody>\n",
       "    <tr>\n",
       "      <th>2007-01-01</th>\n",
       "      <td>1290</td>\n",
       "      <td>2800.3</td>\n",
       "      <td>88015.60</td>\n",
       "      <td>270127.44</td>\n",
       "      <td>168.903</td>\n",
       "      <td>232.476</td>\n",
       "      <td>217.428</td>\n",
       "      <td>73.0</td>\n",
       "      <td>109.0</td>\n",
       "      <td>212.1</td>\n",
       "      <td>...</td>\n",
       "      <td>80.1480</td>\n",
       "      <td>94.812</td>\n",
       "      <td>176.588</td>\n",
       "      <td>177.805</td>\n",
       "      <td>146.626</td>\n",
       "      <td>146.440</td>\n",
       "      <td>172.747</td>\n",
       "      <td>165.741</td>\n",
       "      <td>213.161</td>\n",
       "      <td>1</td>\n",
       "    </tr>\n",
       "    <tr>\n",
       "      <th>2007-02-01</th>\n",
       "      <td>1274</td>\n",
       "      <td>2561.2</td>\n",
       "      <td>88273.90</td>\n",
       "      <td>223064.59</td>\n",
       "      <td>168.870</td>\n",
       "      <td>238.651</td>\n",
       "      <td>218.173</td>\n",
       "      <td>60.1</td>\n",
       "      <td>105.6</td>\n",
       "      <td>215.8</td>\n",
       "      <td>...</td>\n",
       "      <td>81.4600</td>\n",
       "      <td>94.643</td>\n",
       "      <td>190.534</td>\n",
       "      <td>180.997</td>\n",
       "      <td>151.905</td>\n",
       "      <td>146.366</td>\n",
       "      <td>170.358</td>\n",
       "      <td>166.031</td>\n",
       "      <td>217.949</td>\n",
       "      <td>2</td>\n",
       "    </tr>\n",
       "    <tr>\n",
       "      <th>2007-03-01</th>\n",
       "      <td>1260</td>\n",
       "      <td>2793.0</td>\n",
       "      <td>92747.49</td>\n",
       "      <td>276724.42</td>\n",
       "      <td>169.346</td>\n",
       "      <td>245.141</td>\n",
       "      <td>222.221</td>\n",
       "      <td>66.1</td>\n",
       "      <td>108.3</td>\n",
       "      <td>221.4</td>\n",
       "      <td>...</td>\n",
       "      <td>86.0475</td>\n",
       "      <td>94.397</td>\n",
       "      <td>184.878</td>\n",
       "      <td>181.778</td>\n",
       "      <td>152.622</td>\n",
       "      <td>150.995</td>\n",
       "      <td>176.106</td>\n",
       "      <td>169.230</td>\n",
       "      <td>215.625</td>\n",
       "      <td>3</td>\n",
       "    </tr>\n",
       "    <tr>\n",
       "      <th>2007-04-01</th>\n",
       "      <td>1235</td>\n",
       "      <td>2701.4</td>\n",
       "      <td>105205.87</td>\n",
       "      <td>301300.99</td>\n",
       "      <td>169.385</td>\n",
       "      <td>249.477</td>\n",
       "      <td>220.779</td>\n",
       "      <td>71.1</td>\n",
       "      <td>113.1</td>\n",
       "      <td>236.1</td>\n",
       "      <td>...</td>\n",
       "      <td>86.4200</td>\n",
       "      <td>93.274</td>\n",
       "      <td>178.626</td>\n",
       "      <td>182.456</td>\n",
       "      <td>158.206</td>\n",
       "      <td>155.146</td>\n",
       "      <td>169.135</td>\n",
       "      <td>168.387</td>\n",
       "      <td>215.400</td>\n",
       "      <td>4</td>\n",
       "    </tr>\n",
       "    <tr>\n",
       "      <th>2007-05-01</th>\n",
       "      <td>1232</td>\n",
       "      <td>3051.4</td>\n",
       "      <td>126889.87</td>\n",
       "      <td>302812.03</td>\n",
       "      <td>172.342</td>\n",
       "      <td>250.627</td>\n",
       "      <td>221.801</td>\n",
       "      <td>86.1</td>\n",
       "      <td>118.4</td>\n",
       "      <td>265.6</td>\n",
       "      <td>...</td>\n",
       "      <td>93.0160</td>\n",
       "      <td>92.615</td>\n",
       "      <td>183.757</td>\n",
       "      <td>184.626</td>\n",
       "      <td>155.751</td>\n",
       "      <td>154.565</td>\n",
       "      <td>176.349</td>\n",
       "      <td>173.426</td>\n",
       "      <td>223.565</td>\n",
       "      <td>5</td>\n",
       "    </tr>\n",
       "  </tbody>\n",
       "</table>\n",
       "<p>5 rows × 39 columns</p>\n",
       "</div>"
      ],
      "text/plain": [
       "            Beef_CS_LiveWgt_PerHd  Beef_CS_Slaughter_Cnt  Beef_ME_Exp_cwt  \\\n",
       "Date                                                                        \n",
       "2007-01-01                   1290                 2800.3         88015.60   \n",
       "2007-02-01                   1274                 2561.2         88273.90   \n",
       "2007-03-01                   1260                 2793.0         92747.49   \n",
       "2007-04-01                   1235                 2701.4        105205.87   \n",
       "2007-05-01                   1232                 3051.4        126889.87   \n",
       "\n",
       "            Beef_ME_Imp_cwt  OP_Electricity_Index  OP_Fuel_Oil_Index  \\\n",
       "Date                                                                   \n",
       "2007-01-01        270127.44               168.903            232.476   \n",
       "2007-02-01        223064.59               168.870            238.651   \n",
       "2007-03-01        276724.42               169.346            245.141   \n",
       "2007-04-01        301300.99               169.385            249.477   \n",
       "2007-05-01        302812.03               172.342            250.627   \n",
       "\n",
       "            OP_Utility_Gas_Index  OP_Gasoline_Index  OP_Soyabean_Index  \\\n",
       "Date                                                                     \n",
       "2007-01-01               217.428               73.0              109.0   \n",
       "2007-02-01               218.173               60.1              105.6   \n",
       "2007-03-01               222.221               66.1              108.3   \n",
       "2007-04-01               220.779               71.1              113.1   \n",
       "2007-05-01               221.801               86.1              118.4   \n",
       "\n",
       "            OP_Hay_Alfalfa_Index  ...    Extreme_Draught_Value  Dollar_Index  \\\n",
       "Date                              ...                                          \n",
       "2007-01-01                 212.1  ...                  80.1480        94.812   \n",
       "2007-02-01                 215.8  ...                  81.4600        94.643   \n",
       "2007-03-01                 221.4  ...                  86.0475        94.397   \n",
       "2007-04-01                 236.1  ...                  86.4200        93.274   \n",
       "2007-05-01                 265.6  ...                  93.0160        92.615   \n",
       "\n",
       "            Egg_Index  Ground_Beef_Index  Round_Index  Beef_Steak_Index  \\\n",
       "Date                                                                      \n",
       "2007-01-01    176.588            177.805      146.626           146.440   \n",
       "2007-02-01    190.534            180.997      151.905           146.366   \n",
       "2007-03-01    184.878            181.778      152.622           150.995   \n",
       "2007-04-01    178.626            182.456      158.206           155.146   \n",
       "2007-05-01    183.757            184.626      155.751           154.565   \n",
       "\n",
       "            Ham_Index  Pork_Chops_Index  Bacon_Index  Month  \n",
       "Date                                                         \n",
       "2007-01-01    172.747           165.741      213.161      1  \n",
       "2007-02-01    170.358           166.031      217.949      2  \n",
       "2007-03-01    176.106           169.230      215.625      3  \n",
       "2007-04-01    169.135           168.387      215.400      4  \n",
       "2007-05-01    176.349           173.426      223.565      5  \n",
       "\n",
       "[5 rows x 39 columns]"
      ]
     },
     "execution_count": 3,
     "metadata": {},
     "output_type": "execute_result"
    }
   ],
   "source": [
    "# we can add month as feature but not added as of now\n",
    "original_df =pd.read_csv('../input/MRDS_Index_Data_D_Labs_Training_Updated.csv',parse_dates=True,index_col='Date')\n",
    "subset_df = original_df['2007':'2018'] \n",
    "subset_df['Month'] = subset_df.index.month\n",
    "subset_df.head()"
   ]
  },
  {
   "cell_type": "code",
   "execution_count": 4,
   "metadata": {
    "_uuid": "919efa1a911af07531a540ae2067ecf907526588",
    "collapsed": true
   },
   "outputs": [],
   "source": [
    "target_names = ['Bacon_Index']\n",
    "shift_months = 12 "
   ]
  },
  {
   "cell_type": "code",
   "execution_count": 5,
   "metadata": {
    "_uuid": "57d3d790f03311f17039a2dc791fffd66e3a9046",
    "collapsed": true
   },
   "outputs": [],
   "source": [
    "df_targets = subset_df [target_names].shift(-shift_months)"
   ]
  },
  {
   "cell_type": "code",
   "execution_count": 6,
   "metadata": {
    "_uuid": "1894327d0a5701cf6b588ab23f31e7c56d5a8132"
   },
   "outputs": [
    {
     "data": {
      "text/html": [
       "<div>\n",
       "<style scoped>\n",
       "    .dataframe tbody tr th:only-of-type {\n",
       "        vertical-align: middle;\n",
       "    }\n",
       "\n",
       "    .dataframe tbody tr th {\n",
       "        vertical-align: top;\n",
       "    }\n",
       "\n",
       "    .dataframe thead th {\n",
       "        text-align: right;\n",
       "    }\n",
       "</style>\n",
       "<table border=\"1\" class=\"dataframe\">\n",
       "  <thead>\n",
       "    <tr style=\"text-align: right;\">\n",
       "      <th></th>\n",
       "      <th>Bacon_Index</th>\n",
       "    </tr>\n",
       "    <tr>\n",
       "      <th>Date</th>\n",
       "      <th></th>\n",
       "    </tr>\n",
       "  </thead>\n",
       "  <tbody>\n",
       "    <tr>\n",
       "      <th>2007-01-01</th>\n",
       "      <td>217.441</td>\n",
       "    </tr>\n",
       "    <tr>\n",
       "      <th>2007-02-01</th>\n",
       "      <td>216.966</td>\n",
       "    </tr>\n",
       "    <tr>\n",
       "      <th>2007-03-01</th>\n",
       "      <td>216.824</td>\n",
       "    </tr>\n",
       "    <tr>\n",
       "      <th>2007-04-01</th>\n",
       "      <td>216.807</td>\n",
       "    </tr>\n",
       "    <tr>\n",
       "      <th>2007-05-01</th>\n",
       "      <td>215.096</td>\n",
       "    </tr>\n",
       "  </tbody>\n",
       "</table>\n",
       "</div>"
      ],
      "text/plain": [
       "            Bacon_Index\n",
       "Date                   \n",
       "2007-01-01      217.441\n",
       "2007-02-01      216.966\n",
       "2007-03-01      216.824\n",
       "2007-04-01      216.807\n",
       "2007-05-01      215.096"
      ]
     },
     "execution_count": 6,
     "metadata": {},
     "output_type": "execute_result"
    }
   ],
   "source": [
    "df_targets.head()"
   ]
  },
  {
   "cell_type": "code",
   "execution_count": 7,
   "metadata": {
    "_uuid": "894233c01b27aa80b9d5ffaa2ec6e3aa7d22b9fb",
    "collapsed": true
   },
   "outputs": [],
   "source": [
    "test_df = subset_df.tail(12)"
   ]
  },
  {
   "cell_type": "code",
   "execution_count": 8,
   "metadata": {
    "_uuid": "2d0bd9e34c92212d49e3457b4d11659a8c3b14ba",
    "collapsed": true
   },
   "outputs": [],
   "source": [
    "traning_df = subset_df[:-12]"
   ]
  },
  {
   "cell_type": "code",
   "execution_count": 9,
   "metadata": {
    "_uuid": "daaf4ea3b368b7973c630603698b6ef278c56cb9",
    "collapsed": true
   },
   "outputs": [],
   "source": [
    "feature_columns = ['DG_Pop_Size_mm', 'ME_CPI', 'Bacon_Index', 'ME_AvgHrInc_Trk_Driver',\n",
    "       'Ground_Beef_Index', 'Ham_Index', 'Round_Index', 'Beef_Steak_Index',\n",
    "       'Beef_ME_Exp_cwt', 'Pork_Chops_Index', 'OP_Electricity_Index',\n",
    "       'Pork_CS_LiveWgt_PerHd', 'OP_Gasoline_Index', 'Pork_ME_Exp_cwt',\n",
    "       'Beef_CS_LiveWgt_PerHd', 'OP_Hay_Others_Prc', 'OP_Hay_Alfalfa_Index',\n",
    "       'Egg_Index', 'OP_Corn_Index', 'Pork_CS_ColdStrg_Stock_pwt',\n",
    "       'Extreme_Draught_Value', 'OP_Soyabean_Index',\n",
    "       'Pork_CS_ColdStrg_Stock_cwt', 'Pork_ME_Imp_cwt', 'Pork_CS_Prod_Qty',\n",
    "       'WR_Avg_Rainfall', 'OP_Fuel_Oil_Index', 'Dollar_Index',\n",
    "       'Beef_CS_Prod_Qty', 'CS_Cattle_On_Feed_Invt', 'Beef_CS_Slaughter_Cnt',\n",
    "       'OP_Utility_Gas_Index']"
   ]
  },
  {
   "cell_type": "code",
   "execution_count": 10,
   "metadata": {
    "_uuid": "2644807bfea8020ee91d9c46c98844fe960c6444",
    "collapsed": true
   },
   "outputs": [],
   "source": [
    "limited_feature_traning_df = traning_df[feature_columns]"
   ]
  },
  {
   "cell_type": "code",
   "execution_count": 11,
   "metadata": {
    "_uuid": "2c1b141f29c2bd6170af4c2dd823bcc09a7138f3"
   },
   "outputs": [
    {
     "data": {
      "text/html": [
       "<div>\n",
       "<style scoped>\n",
       "    .dataframe tbody tr th:only-of-type {\n",
       "        vertical-align: middle;\n",
       "    }\n",
       "\n",
       "    .dataframe tbody tr th {\n",
       "        vertical-align: top;\n",
       "    }\n",
       "\n",
       "    .dataframe thead th {\n",
       "        text-align: right;\n",
       "    }\n",
       "</style>\n",
       "<table border=\"1\" class=\"dataframe\">\n",
       "  <thead>\n",
       "    <tr style=\"text-align: right;\">\n",
       "      <th></th>\n",
       "      <th>DG_Pop_Size_mm</th>\n",
       "      <th>ME_CPI</th>\n",
       "      <th>Bacon_Index</th>\n",
       "      <th>ME_AvgHrInc_Trk_Driver</th>\n",
       "      <th>Ground_Beef_Index</th>\n",
       "      <th>Ham_Index</th>\n",
       "      <th>Round_Index</th>\n",
       "      <th>Beef_Steak_Index</th>\n",
       "      <th>Beef_ME_Exp_cwt</th>\n",
       "      <th>Pork_Chops_Index</th>\n",
       "      <th>...</th>\n",
       "      <th>Pork_CS_ColdStrg_Stock_cwt</th>\n",
       "      <th>Pork_ME_Imp_cwt</th>\n",
       "      <th>Pork_CS_Prod_Qty</th>\n",
       "      <th>WR_Avg_Rainfall</th>\n",
       "      <th>OP_Fuel_Oil_Index</th>\n",
       "      <th>Dollar_Index</th>\n",
       "      <th>Beef_CS_Prod_Qty</th>\n",
       "      <th>CS_Cattle_On_Feed_Invt</th>\n",
       "      <th>Beef_CS_Slaughter_Cnt</th>\n",
       "      <th>OP_Utility_Gas_Index</th>\n",
       "    </tr>\n",
       "    <tr>\n",
       "      <th>Date</th>\n",
       "      <th></th>\n",
       "      <th></th>\n",
       "      <th></th>\n",
       "      <th></th>\n",
       "      <th></th>\n",
       "      <th></th>\n",
       "      <th></th>\n",
       "      <th></th>\n",
       "      <th></th>\n",
       "      <th></th>\n",
       "      <th></th>\n",
       "      <th></th>\n",
       "      <th></th>\n",
       "      <th></th>\n",
       "      <th></th>\n",
       "      <th></th>\n",
       "      <th></th>\n",
       "      <th></th>\n",
       "      <th></th>\n",
       "      <th></th>\n",
       "      <th></th>\n",
       "    </tr>\n",
       "  </thead>\n",
       "  <tbody>\n",
       "    <tr>\n",
       "      <th>2007-01-01</th>\n",
       "      <td>299.89</td>\n",
       "      <td>202.42</td>\n",
       "      <td>213.161</td>\n",
       "      <td>17.50</td>\n",
       "      <td>177.805</td>\n",
       "      <td>172.747</td>\n",
       "      <td>146.626</td>\n",
       "      <td>146.440</td>\n",
       "      <td>88015.60</td>\n",
       "      <td>165.741</td>\n",
       "      <td>...</td>\n",
       "      <td>493.35</td>\n",
       "      <td>72565.25</td>\n",
       "      <td>1898.5</td>\n",
       "      <td>46.39</td>\n",
       "      <td>232.476</td>\n",
       "      <td>94.812</td>\n",
       "      <td>2166.0</td>\n",
       "      <td>11974</td>\n",
       "      <td>2800.3</td>\n",
       "      <td>217.428</td>\n",
       "    </tr>\n",
       "    <tr>\n",
       "      <th>2007-02-01</th>\n",
       "      <td>300.10</td>\n",
       "      <td>203.50</td>\n",
       "      <td>217.949</td>\n",
       "      <td>17.47</td>\n",
       "      <td>180.997</td>\n",
       "      <td>170.358</td>\n",
       "      <td>151.905</td>\n",
       "      <td>146.366</td>\n",
       "      <td>88273.90</td>\n",
       "      <td>166.031</td>\n",
       "      <td>...</td>\n",
       "      <td>539.99</td>\n",
       "      <td>77317.26</td>\n",
       "      <td>1636.3</td>\n",
       "      <td>33.98</td>\n",
       "      <td>238.651</td>\n",
       "      <td>94.643</td>\n",
       "      <td>1952.5</td>\n",
       "      <td>11726</td>\n",
       "      <td>2561.2</td>\n",
       "      <td>218.173</td>\n",
       "    </tr>\n",
       "    <tr>\n",
       "      <th>2007-03-01</th>\n",
       "      <td>300.29</td>\n",
       "      <td>205.35</td>\n",
       "      <td>215.625</td>\n",
       "      <td>17.52</td>\n",
       "      <td>181.778</td>\n",
       "      <td>176.106</td>\n",
       "      <td>152.622</td>\n",
       "      <td>150.995</td>\n",
       "      <td>92747.49</td>\n",
       "      <td>169.230</td>\n",
       "      <td>...</td>\n",
       "      <td>539.42</td>\n",
       "      <td>89382.99</td>\n",
       "      <td>1861.0</td>\n",
       "      <td>46.06</td>\n",
       "      <td>245.141</td>\n",
       "      <td>94.397</td>\n",
       "      <td>2118.2</td>\n",
       "      <td>11599</td>\n",
       "      <td>2793.0</td>\n",
       "      <td>222.221</td>\n",
       "    </tr>\n",
       "    <tr>\n",
       "      <th>2007-04-01</th>\n",
       "      <td>300.51</td>\n",
       "      <td>206.69</td>\n",
       "      <td>215.400</td>\n",
       "      <td>17.51</td>\n",
       "      <td>182.456</td>\n",
       "      <td>169.135</td>\n",
       "      <td>158.206</td>\n",
       "      <td>155.146</td>\n",
       "      <td>105205.87</td>\n",
       "      <td>168.387</td>\n",
       "      <td>...</td>\n",
       "      <td>552.63</td>\n",
       "      <td>85218.40</td>\n",
       "      <td>1711.5</td>\n",
       "      <td>48.40</td>\n",
       "      <td>249.477</td>\n",
       "      <td>93.274</td>\n",
       "      <td>2015.0</td>\n",
       "      <td>11644</td>\n",
       "      <td>2701.4</td>\n",
       "      <td>220.779</td>\n",
       "    </tr>\n",
       "    <tr>\n",
       "      <th>2007-05-01</th>\n",
       "      <td>300.73</td>\n",
       "      <td>207.95</td>\n",
       "      <td>223.565</td>\n",
       "      <td>17.60</td>\n",
       "      <td>184.626</td>\n",
       "      <td>176.349</td>\n",
       "      <td>155.751</td>\n",
       "      <td>154.565</td>\n",
       "      <td>126889.87</td>\n",
       "      <td>173.426</td>\n",
       "      <td>...</td>\n",
       "      <td>590.81</td>\n",
       "      <td>85744.99</td>\n",
       "      <td>1762.6</td>\n",
       "      <td>56.15</td>\n",
       "      <td>250.627</td>\n",
       "      <td>92.615</td>\n",
       "      <td>2285.1</td>\n",
       "      <td>11297</td>\n",
       "      <td>3051.4</td>\n",
       "      <td>221.801</td>\n",
       "    </tr>\n",
       "  </tbody>\n",
       "</table>\n",
       "<p>5 rows × 32 columns</p>\n",
       "</div>"
      ],
      "text/plain": [
       "            DG_Pop_Size_mm  ME_CPI  Bacon_Index  ME_AvgHrInc_Trk_Driver  \\\n",
       "Date                                                                      \n",
       "2007-01-01          299.89  202.42      213.161                   17.50   \n",
       "2007-02-01          300.10  203.50      217.949                   17.47   \n",
       "2007-03-01          300.29  205.35      215.625                   17.52   \n",
       "2007-04-01          300.51  206.69      215.400                   17.51   \n",
       "2007-05-01          300.73  207.95      223.565                   17.60   \n",
       "\n",
       "            Ground_Beef_Index  Ham_Index  Round_Index  Beef_Steak_Index  \\\n",
       "Date                                                                      \n",
       "2007-01-01            177.805    172.747      146.626           146.440   \n",
       "2007-02-01            180.997    170.358      151.905           146.366   \n",
       "2007-03-01            181.778    176.106      152.622           150.995   \n",
       "2007-04-01            182.456    169.135      158.206           155.146   \n",
       "2007-05-01            184.626    176.349      155.751           154.565   \n",
       "\n",
       "            Beef_ME_Exp_cwt  Pork_Chops_Index          ...           \\\n",
       "Date                                                   ...            \n",
       "2007-01-01         88015.60           165.741          ...            \n",
       "2007-02-01         88273.90           166.031          ...            \n",
       "2007-03-01         92747.49           169.230          ...            \n",
       "2007-04-01        105205.87           168.387          ...            \n",
       "2007-05-01        126889.87           173.426          ...            \n",
       "\n",
       "            Pork_CS_ColdStrg_Stock_cwt  Pork_ME_Imp_cwt  Pork_CS_Prod_Qty  \\\n",
       "Date                                                                        \n",
       "2007-01-01                      493.35         72565.25            1898.5   \n",
       "2007-02-01                      539.99         77317.26            1636.3   \n",
       "2007-03-01                      539.42         89382.99            1861.0   \n",
       "2007-04-01                      552.63         85218.40            1711.5   \n",
       "2007-05-01                      590.81         85744.99            1762.6   \n",
       "\n",
       "            WR_Avg_Rainfall  OP_Fuel_Oil_Index  Dollar_Index  \\\n",
       "Date                                                           \n",
       "2007-01-01            46.39            232.476        94.812   \n",
       "2007-02-01            33.98            238.651        94.643   \n",
       "2007-03-01            46.06            245.141        94.397   \n",
       "2007-04-01            48.40            249.477        93.274   \n",
       "2007-05-01            56.15            250.627        92.615   \n",
       "\n",
       "            Beef_CS_Prod_Qty  CS_Cattle_On_Feed_Invt  Beef_CS_Slaughter_Cnt  \\\n",
       "Date                                                                          \n",
       "2007-01-01            2166.0                   11974                 2800.3   \n",
       "2007-02-01            1952.5                   11726                 2561.2   \n",
       "2007-03-01            2118.2                   11599                 2793.0   \n",
       "2007-04-01            2015.0                   11644                 2701.4   \n",
       "2007-05-01            2285.1                   11297                 3051.4   \n",
       "\n",
       "            OP_Utility_Gas_Index  \n",
       "Date                              \n",
       "2007-01-01               217.428  \n",
       "2007-02-01               218.173  \n",
       "2007-03-01               222.221  \n",
       "2007-04-01               220.779  \n",
       "2007-05-01               221.801  \n",
       "\n",
       "[5 rows x 32 columns]"
      ]
     },
     "execution_count": 11,
     "metadata": {},
     "output_type": "execute_result"
    }
   ],
   "source": [
    "limited_feature_traning_df.head()"
   ]
  },
  {
   "cell_type": "code",
   "execution_count": 12,
   "metadata": {
    "_uuid": "780ac5dd0b00ad947abfffb82aadcfe64306624f"
   },
   "outputs": [
    {
     "name": "stdout",
     "output_type": "stream",
     "text": [
      "(113, 32)\n"
     ]
    }
   ],
   "source": [
    "x_data = limited_feature_traning_df.values\n",
    "print(x_data.shape)"
   ]
  },
  {
   "cell_type": "code",
   "execution_count": 13,
   "metadata": {
    "_uuid": "cd9f2281ecc776044621a538f25bdc9c71c6e236"
   },
   "outputs": [
    {
     "name": "stdout",
     "output_type": "stream",
     "text": [
      "(113, 1)\n"
     ]
    }
   ],
   "source": [
    "y_data = df_targets.values[:-shift_months]\n",
    "print(y_data.shape)"
   ]
  },
  {
   "cell_type": "code",
   "execution_count": 14,
   "metadata": {
    "_uuid": "14f36269e68a8a72454e0286ba54eff04fa9bf9d",
    "collapsed": true
   },
   "outputs": [],
   "source": [
    "from sklearn.model_selection import train_test_split\n",
    "x_train,x_val,y_train,y_val = train_test_split(x_data,y_data,test_size = 0.1,shuffle=False)"
   ]
  },
  {
   "cell_type": "code",
   "execution_count": 15,
   "metadata": {
    "_uuid": "b3f43ba0e55072207d36980f0fbfce204d248110"
   },
   "outputs": [
    {
     "data": {
      "text/plain": [
       "32"
      ]
     },
     "execution_count": 15,
     "metadata": {},
     "output_type": "execute_result"
    }
   ],
   "source": [
    "# Number of input features\n",
    "num_x_signals = x_data.shape[1]\n",
    "num_x_signals"
   ]
  },
  {
   "cell_type": "code",
   "execution_count": 16,
   "metadata": {
    "_uuid": "d0511ede1d8d86f761ca173683bab910baa1d1f6"
   },
   "outputs": [
    {
     "data": {
      "text/plain": [
       "1"
      ]
     },
     "execution_count": 16,
     "metadata": {},
     "output_type": "execute_result"
    }
   ],
   "source": [
    "# number of target\n",
    "num_y_signals = y_data.shape[1]\n",
    "num_y_signals"
   ]
  },
  {
   "cell_type": "code",
   "execution_count": 17,
   "metadata": {
    "_uuid": "fa8007d6c541d63496c5440f0dd140e8e5a46147",
    "collapsed": true
   },
   "outputs": [],
   "source": [
    "# scale Data\n",
    "x_scalerx_scaler = MinMaxScaler()\n",
    "x_train_scaled = x_scalerx_scaler.fit_transform(x_train)\n",
    "x_scaled_val = x_scalerx_scaler.fit_transform(x_val)"
   ]
  },
  {
   "cell_type": "code",
   "execution_count": 18,
   "metadata": {
    "_uuid": "d2f5a2fe620840926113064b3b0960f8ff7db600"
   },
   "outputs": [
    {
     "name": "stdout",
     "output_type": "stream",
     "text": [
      "(101, 32)\n",
      "(101, 1)\n"
     ]
    }
   ],
   "source": [
    "print(x_train_scaled.shape)\n",
    "print(y_train.shape)"
   ]
  },
  {
   "cell_type": "code",
   "execution_count": 19,
   "metadata": {
    "_uuid": "251e53618b2916afcf94f727b7fdc91c12cfd821",
    "collapsed": true
   },
   "outputs": [],
   "source": [
    "def batch_generator(batch_size, sequence_length):\n",
    "    \"\"\"\n",
    "    Generator function for creating random batches of training-data.\n",
    "    \"\"\"\n",
    "\n",
    "    # Infinite loop.\n",
    "    while True:\n",
    "        # Allocate a new array for the batch of input-signals.\n",
    "        x_shape = (batch_size, sequence_length, num_x_signals)\n",
    "        x_batch = np.zeros(shape=x_shape, dtype=np.float16)\n",
    "\n",
    "        # Allocate a new array for the batch of output-signals.\n",
    "        y_shape = (batch_size, sequence_length, num_y_signals)\n",
    "        y_batch = np.zeros(shape=y_shape, dtype=np.float16)\n",
    "\n",
    "        # Fill the batch with random sequences of data.\n",
    "        for i in range(batch_size):\n",
    "            # Get a random start-index.\n",
    "            # This points somewhere into the training-data.\n",
    "            idx = np.random.randint(len(x_train_scaled) - sequence_length)\n",
    "            \n",
    "            # Copy the sequences of data starting at this index.\n",
    "            x_batch[i] = x_train_scaled[idx:idx+sequence_length]\n",
    "            y_batch[i] = y_train[idx:idx+sequence_length]\n",
    "        \n",
    "        yield (x_batch, y_batch)"
   ]
  },
  {
   "cell_type": "code",
   "execution_count": 20,
   "metadata": {
    "_uuid": "ba95ad1dce40c1e7e86f1876e92dece9e898a414",
    "collapsed": true
   },
   "outputs": [],
   "source": [
    "# batch size and sequence\n",
    "batch_size = 30\n",
    "sequence_length= 12*1 # we will go four years data at a time"
   ]
  },
  {
   "cell_type": "code",
   "execution_count": 21,
   "metadata": {
    "_uuid": "ff1881548fa7e9ef48705484d12a10b6c22356f5",
    "collapsed": true
   },
   "outputs": [],
   "source": [
    "generator = batch_generator(batch_size=batch_size,\n",
    "                            sequence_length=sequence_length)"
   ]
  },
  {
   "cell_type": "code",
   "execution_count": 22,
   "metadata": {
    "_uuid": "5c7aab2c61323dab0dcc700f6971c152675c8c75",
    "collapsed": true
   },
   "outputs": [],
   "source": [
    "x_batch, y_batch = next(generator)"
   ]
  },
  {
   "cell_type": "code",
   "execution_count": 23,
   "metadata": {
    "_uuid": "6e88a167bcebbe0ca2246f3b079a1e6c7aed3dc5",
    "collapsed": true
   },
   "outputs": [],
   "source": [
    "validation_data = (np.expand_dims(x_scaled_val, axis=0),\n",
    "                   np.expand_dims(y_val, axis=0))"
   ]
  },
  {
   "cell_type": "code",
   "execution_count": 24,
   "metadata": {
    "_uuid": "9875ca714776a8dcd58882c2437fcbb24993984a",
    "collapsed": true
   },
   "outputs": [],
   "source": [
    "model = Sequential()\n",
    "model.add(GRU(units=512,\n",
    "              return_sequences=True,\n",
    "              input_shape=(None, num_x_signals,),\n",
    "              dropout = 0.5))\n",
    "model.add(GRU(units=512,\n",
    "              return_sequences=True,\n",
    "              input_shape=(None, 512,),\n",
    "              dropout = 0.5))\n",
    "\n",
    "model.add(Dense(num_y_signals, activation='relu'))"
   ]
  },
  {
   "cell_type": "code",
   "execution_count": 25,
   "metadata": {
    "_uuid": "3957bcf5cca183d74939f335202e3e1c3ae5ccd9",
    "collapsed": true
   },
   "outputs": [],
   "source": [
    "optimizer = RMSprop(lr=1e-3)"
   ]
  },
  {
   "cell_type": "code",
   "execution_count": 26,
   "metadata": {
    "_uuid": "6e87ebd471035a5abeb9f8de0b9b4c5a51fc3721",
    "collapsed": true
   },
   "outputs": [],
   "source": [
    "def loss_mse_warmup(y_true, y_pred):\n",
    "    \"\"\"\n",
    "    Calculate the Mean Squared Error between y_true and y_pred,\n",
    "    but ignore the beginning \"warmup\" part of the sequences.\n",
    "    \n",
    "    y_true is the desired output.\n",
    "    y_pred is the model's output.\n",
    "    \"\"\"\n",
    "\n",
    "\n",
    "    # Calculate the MSE loss for each value in these tensors.\n",
    "    # This outputs a 3-rank tensor of the same shape.\n",
    "    loss = tf.losses.mean_squared_error(labels=y_true,\n",
    "                                        predictions=y_pred)\n",
    "\n",
    "    # Keras may reduce this across the first axis (the batch)\n",
    "    # but the semantics are unclear, so to be sure we use\n",
    "    # the loss across the entire tensor, we reduce it to a\n",
    "    # single scalar with the mean function.\n",
    "    loss_mean = tf.reduce_mean(loss)\n",
    "\n",
    "    return loss_mean"
   ]
  },
  {
   "cell_type": "code",
   "execution_count": 27,
   "metadata": {
    "_uuid": "a0b7145e47270fe4f2b32a9fb9df5ee95e6db615",
    "collapsed": true
   },
   "outputs": [],
   "source": [
    "model.compile(loss=loss_mse_warmup, \n",
    "              optimizer=optimizer)"
   ]
  },
  {
   "cell_type": "code",
   "execution_count": 28,
   "metadata": {
    "_uuid": "73934da514c6a2f6ef0b60360e28f18269c89f07"
   },
   "outputs": [
    {
     "name": "stdout",
     "output_type": "stream",
     "text": [
      "_________________________________________________________________\n",
      "Layer (type)                 Output Shape              Param #   \n",
      "=================================================================\n",
      "gru_1 (GRU)                  (None, None, 512)         837120    \n",
      "_________________________________________________________________\n",
      "gru_2 (GRU)                  (None, None, 512)         1574400   \n",
      "_________________________________________________________________\n",
      "dense_1 (Dense)              (None, None, 1)           513       \n",
      "=================================================================\n",
      "Total params: 2,412,033\n",
      "Trainable params: 2,412,033\n",
      "Non-trainable params: 0\n",
      "_________________________________________________________________\n"
     ]
    }
   ],
   "source": [
    "model.summary()"
   ]
  },
  {
   "cell_type": "code",
   "execution_count": 29,
   "metadata": {
    "_uuid": "fa65d2b27004c9454e36f7e0f5a7cb8c5a82e368",
    "collapsed": true
   },
   "outputs": [],
   "source": [
    "# call back function\n",
    "path_checkpoint = '23_checkpoint.keras'\n",
    "callback_checkpoint = ModelCheckpoint(filepath=path_checkpoint,\n",
    "                                      monitor='val_loss',\n",
    "                                      verbose=1,\n",
    "                                      save_weights_only=True,\n",
    "                                      save_best_only=True)\n",
    "callback_early_stopping  = EarlyStopping(monitor='val_loss',\n",
    "                                        patience=5, verbose=1)\n",
    "callback_reduce_lr = ReduceLROnPlateau(monitor='val_loss',\n",
    "                                       factor=0.1,\n",
    "                                       min_lr=1e-4,\n",
    "                                       patience=2,\n",
    "                                       verbose=1)\n",
    "callback_tensorboard = TensorBoard(log_dir='./23_logs/',\n",
    "                                   histogram_freq=0,\n",
    "                                   write_graph=False)"
   ]
  },
  {
   "cell_type": "code",
   "execution_count": 30,
   "metadata": {
    "_uuid": "768bf3ad9f6dd14cfe561cb27a72624f50ddfcd2",
    "collapsed": true
   },
   "outputs": [],
   "source": [
    "callbacks = [callback_early_stopping,\n",
    "             callback_checkpoint,\n",
    "             callback_tensorboard,\n",
    "             callback_reduce_lr]"
   ]
  },
  {
   "cell_type": "code",
   "execution_count": 31,
   "metadata": {
    "_uuid": "991ebac38221009e7be223eb38e20dfd1e40d925"
   },
   "outputs": [
    {
     "name": "stdout",
     "output_type": "stream",
     "text": [
      "Epoch 1/50\n",
      " 99/100 [============================>.] - ETA: 0s - loss: 43009.5494\n",
      "Epoch 00001: val_loss improved from inf to 41668.21875, saving model to 23_checkpoint.keras\n",
      "100/100 [==============================] - 7s 70ms/step - loss: 42891.3019 - val_loss: 41668.2188\n",
      "Epoch 2/50\n",
      " 99/100 [============================>.] - ETA: 0s - loss: 24564.3661\n",
      "Epoch 00002: val_loss improved from 41668.21875 to 23821.10156, saving model to 23_checkpoint.keras\n",
      "100/100 [==============================] - 6s 57ms/step - loss: 24512.9094 - val_loss: 23821.1016\n",
      "Epoch 3/50\n",
      " 99/100 [============================>.] - ETA: 0s - loss: 11779.3276\n",
      "Epoch 00003: val_loss improved from 23821.10156 to 11125.72754, saving model to 23_checkpoint.keras\n",
      "100/100 [==============================] - 6s 56ms/step - loss: 11736.8558 - val_loss: 11125.7275\n",
      "Epoch 4/50\n",
      " 99/100 [============================>.] - ETA: 0s - loss: 4149.0670\n",
      "Epoch 00004: val_loss improved from 11125.72754 to 3440.80396, saving model to 23_checkpoint.keras\n",
      "100/100 [==============================] - 6s 57ms/step - loss: 4129.7836 - val_loss: 3440.8040\n",
      "Epoch 5/50\n",
      " 99/100 [============================>.] - ETA: 0s - loss: 1171.0700\n",
      "Epoch 00005: val_loss improved from 3440.80396 to 691.98114, saving model to 23_checkpoint.keras\n",
      "100/100 [==============================] - 6s 57ms/step - loss: 1167.0342 - val_loss: 691.9811\n",
      "Epoch 6/50\n",
      " 99/100 [============================>.] - ETA: 0s - loss: 528.4332\n",
      "Epoch 00006: val_loss improved from 691.98114 to 128.40874, saving model to 23_checkpoint.keras\n",
      "100/100 [==============================] - 6s 56ms/step - loss: 527.3249 - val_loss: 128.4087\n",
      "Epoch 7/50\n",
      " 99/100 [============================>.] - ETA: 0s - loss: 290.5527\n",
      "Epoch 00007: val_loss improved from 128.40874 to 107.99607, saving model to 23_checkpoint.keras\n",
      "100/100 [==============================] - 6s 56ms/step - loss: 289.8617 - val_loss: 107.9961\n",
      "Epoch 8/50\n",
      " 99/100 [============================>.] - ETA: 0s - loss: 219.4490\n",
      "Epoch 00008: val_loss did not improve\n",
      "100/100 [==============================] - 6s 56ms/step - loss: 218.7272 - val_loss: 112.8489\n",
      "Epoch 9/50\n",
      " 99/100 [============================>.] - ETA: 0s - loss: 187.9198\n",
      "Epoch 00009: val_loss improved from 107.99607 to 76.01907, saving model to 23_checkpoint.keras\n",
      "100/100 [==============================] - 6s 56ms/step - loss: 187.9787 - val_loss: 76.0191\n",
      "Epoch 10/50\n",
      " 99/100 [============================>.] - ETA: 0s - loss: 166.1590\n",
      "Epoch 00010: val_loss improved from 76.01907 to 72.83762, saving model to 23_checkpoint.keras\n",
      "100/100 [==============================] - 6s 57ms/step - loss: 165.8082 - val_loss: 72.8376\n",
      "Epoch 11/50\n",
      " 99/100 [============================>.] - ETA: 0s - loss: 154.3108\n",
      "Epoch 00011: val_loss did not improve\n",
      "100/100 [==============================] - 6s 56ms/step - loss: 153.8208 - val_loss: 334.3364\n",
      "Epoch 12/50\n",
      " 99/100 [============================>.] - ETA: 0s - loss: 135.7929\n",
      "Epoch 00012: val_loss did not improve\n",
      "100/100 [==============================] - 6s 56ms/step - loss: 135.6120 - val_loss: 88.3693\n",
      "Epoch 13/50\n",
      " 99/100 [============================>.] - ETA: 0s - loss: 122.1942\n",
      "Epoch 00013: val_loss improved from 72.83762 to 61.91498, saving model to 23_checkpoint.keras\n",
      "100/100 [==============================] - 6s 57ms/step - loss: 122.3918 - val_loss: 61.9150\n",
      "Epoch 14/50\n",
      " 99/100 [============================>.] - ETA: 0s - loss: 123.7355\n",
      "Epoch 00014: val_loss did not improve\n",
      "100/100 [==============================] - 6s 56ms/step - loss: 123.6876 - val_loss: 85.4932\n",
      "Epoch 15/50\n",
      " 99/100 [============================>.] - ETA: 0s - loss: 126.3253\n",
      "Epoch 00015: val_loss did not improve\n",
      "100/100 [==============================] - 6s 56ms/step - loss: 126.1267 - val_loss: 405.3055\n",
      "Epoch 16/50\n",
      " 99/100 [============================>.] - ETA: 0s - loss: 115.5683\n",
      "Epoch 00016: val_loss did not improve\n",
      "\n",
      "Epoch 00016: ReduceLROnPlateau reducing learning rate to 0.00010000000474974513.\n",
      "100/100 [==============================] - 6s 57ms/step - loss: 115.5822 - val_loss: 1081.3043\n",
      "Epoch 17/50\n",
      " 99/100 [============================>.] - ETA: 0s - loss: 84.5335\n",
      "Epoch 00017: val_loss did not improve\n",
      "100/100 [==============================] - 6s 56ms/step - loss: 84.9028 - val_loss: 400.0343\n",
      "Epoch 18/50\n",
      " 99/100 [============================>.] - ETA: 0s - loss: 79.7815\n",
      "Epoch 00018: val_loss did not improve\n",
      "\n",
      "Epoch 00018: ReduceLROnPlateau reducing learning rate to 0.0001.\n",
      "100/100 [==============================] - 6s 56ms/step - loss: 79.7317 - val_loss: 462.6330\n",
      "Epoch 00018: early stopping\n",
      "CPU times: user 2min 1s, sys: 16.3 s, total: 2min 17s\n",
      "Wall time: 1min 49s\n"
     ]
    },
    {
     "data": {
      "text/plain": [
       "<tensorflow.python.keras._impl.keras.callbacks.History at 0x7ff86134d5f8>"
      ]
     },
     "execution_count": 31,
     "metadata": {},
     "output_type": "execute_result"
    }
   ],
   "source": [
    "%%time\n",
    "model.fit_generator(generator=generator,\n",
    "                    epochs=50,\n",
    "                    steps_per_epoch=100,\n",
    "                    validation_data=validation_data,\n",
    "                    callbacks=callbacks)"
   ]
  },
  {
   "cell_type": "code",
   "execution_count": 32,
   "metadata": {
    "_uuid": "689ae35e2942f65c71f65db4634daa74dcae1d1c",
    "collapsed": true
   },
   "outputs": [],
   "source": [
    "try:\n",
    "    model.load_weights(path_checkpoint)\n",
    "except Exception as error:\n",
    "    print(\"Error trying to load checkpoint.\")\n",
    "    print(error)"
   ]
  },
  {
   "cell_type": "code",
   "execution_count": 33,
   "metadata": {
    "_uuid": "d9894741629b97938584076e952b1966db9ecc93"
   },
   "outputs": [
    {
     "name": "stdout",
     "output_type": "stream",
     "text": [
      "\r",
      "1/1 [==============================] - 0s 16ms/step\n"
     ]
    }
   ],
   "source": [
    "result = model.evaluate(x=np.expand_dims(x_scaled_val, axis=0),\n",
    "                        y=np.expand_dims(y_val, axis=0))"
   ]
  },
  {
   "cell_type": "code",
   "execution_count": 34,
   "metadata": {
    "_uuid": "228e4d011eef47a48c4e1583701b133188c27692"
   },
   "outputs": [
    {
     "name": "stdout",
     "output_type": "stream",
     "text": [
      "loss (test-set): 61.914981842041016\n"
     ]
    }
   ],
   "source": [
    "print(\"loss (test-set):\", result)"
   ]
  },
  {
   "cell_type": "code",
   "execution_count": 35,
   "metadata": {
    "_uuid": "ebd74436e1fda525741f5cff4fc7521b9afc783d",
    "collapsed": true
   },
   "outputs": [],
   "source": [
    "def plot_comparison(start_idx, length=100, train=True):\n",
    "    \"\"\"\n",
    "    Plot the predicted and true output-signals.\n",
    "    \n",
    "    :param start_idx: Start-index for the time-series.\n",
    "    :param length: Sequence-length to process and plot.\n",
    "    :param train: Boolean whether to use training- or test-set.\n",
    "    \"\"\"\n",
    "    \n",
    "    if train:\n",
    "        # Use training-data.\n",
    "        x = x_train_scaled\n",
    "        y_true = y_train\n",
    "    else:\n",
    "        # Use test-data.\n",
    "        x = x_scaled_val\n",
    "        y_true = y_val\n",
    "    \n",
    "    # End-index for the sequences.\n",
    "    end_idx = start_idx + length\n",
    "    \n",
    "    # Select the sequences from the given start-index and\n",
    "    # of the given length.\n",
    "    x = x[start_idx:end_idx]\n",
    "    y_true = y_true[start_idx:end_idx]\n",
    "    \n",
    "    # Input-signals for the model.\n",
    "    x = np.expand_dims(x, axis=0)\n",
    "    print(x.shape)\n",
    "    # Use the model to predict the output-signals.\n",
    "    y_pred = model.predict(x)\n",
    "    \n",
    "    # The output of the model is between 0 and 1.\n",
    "    # Do an inverse map to get it back to the scale\n",
    "    # of the original data-set.\n",
    "    y_pred_rescaled = y_pred[0]\n",
    "    \n",
    "    \n",
    "    # For each output-signal.\n",
    "    for signal in range(len(target_names)):\n",
    "        # Get the output-signal predicted by the model.\n",
    "        signal_pred = y_pred_rescaled[:, signal]\n",
    "        print(signal_pred)\n",
    "        \n",
    "        # Get the true output-signal from the data-set.\n",
    "        signal_true = y_true[:, signal]\n",
    "        print(signal_true)\n",
    "\n",
    "        # Make the plotting-canvas bigger.\n",
    "        plt.figure(figsize=(15,5))\n",
    "        \n",
    "        # Plot and compare the two signals.\n",
    "        plt.plot(signal_true, label='true')\n",
    "        plt.plot(signal_pred, label='pred')\n",
    "        \n",
    "        # Plot grey box for warmup-period.\n",
    "        p = plt.axvspan(0, warmup_steps, facecolor='black', alpha=0.15)\n",
    "        \n",
    "        # Plot labels etc.\n",
    "        plt.ylabel(target_names[signal])\n",
    "        plt.legend()\n",
    "        plt.show()"
   ]
  },
  {
   "cell_type": "code",
   "execution_count": 36,
   "metadata": {
    "_uuid": "e1636a55a7d0ebc9afae47542f40f0c37f45a9ab"
   },
   "outputs": [
    {
     "name": "stdout",
     "output_type": "stream",
     "text": [
      "(1, 100, 32)\n",
      "[216.52974 219.04396 219.93915 220.02528 220.0506  220.06686 220.13559\n",
      " 220.31181 220.23317 220.09889 220.07373 220.05443 220.03366 220.01038\n",
      " 219.97826 219.93675 219.87245 219.74821 219.63821 219.55745 219.5165\n",
      " 219.49985 219.5503  219.63274 219.7223  219.82045 219.92267 220.8898\n",
      " 227.14163 232.92236 240.14485 249.12236 257.15445 255.88306 243.64243\n",
      " 239.57896 240.19742 245.36667 257.80856 269.5245  270.28162 270.0149\n",
      " 269.8091  269.69833 269.68283 269.6129  269.50647 269.46933 269.4646\n",
      " 269.5472  269.5512  269.50928 269.5116  269.52042 269.55453 269.55426\n",
      " 269.5317  269.53632 269.4968  269.4875  269.5103  269.5928  269.56128\n",
      " 269.55225 269.59506 269.77658 269.9404  269.8928  269.90482 269.79596\n",
      " 269.74167 269.7586  269.73932 269.77713 269.771   269.8562  269.9163\n",
      " 269.98996 269.9813  269.9883  269.97995 269.90494 269.79196 269.7271\n",
      " 269.76663 269.87994 269.98373 270.05246 270.0767  270.09384 270.344\n",
      " 270.5396  270.72266 270.42224 270.42538 270.3065  270.33173 270.7369\n",
      " 270.764   270.72028]\n",
      "[216.966 216.824 216.807 215.096 217.012 216.816 224.977 224.354 224.254\n",
      " 221.798 219.838 221.711 220.023 217.012 214.729 219.683 218.762 216.669\n",
      " 213.144 214.28  213.175 209.394 211.75  214.415 216.122 215.105 216.385\n",
      " 221.047 225.645 233.322 239.733 247.874 259.438 256.581 240.821 238.648\n",
      " 241.997 250.357 257.556 268.73  270.859 269.479 272.361 273.22  272.885\n",
      " 274.08  270.693 272.199 272.819 271.549 266.037 260.175 258.077 262.421\n",
      " 273.391 273.734 270.008 265.947 265.93  268.999 268.209 276.363 273.975\n",
      " 272.482 279.664 286.956 295.784 299.093 299.287 294.04  291.393 289.675\n",
      " 287.435 286.774 298.891 314.188 311.246 306.072 309.122 310.328 300.653\n",
      " 293.284 288.576 289.399 284.602 278.059 271.994 259.63  266.031 271.069\n",
      " 280.298 291.302 296.871 295.115 287.262 286.999 275.945 281.999 287.903\n",
      " 286.378]\n"
     ]
    },
    {
     "data": {
      "image/png": "[encoded data removed]",
      "text/plain": [
       "<matplotlib.figure.Figure at 0x7ff85c306828>"
      ]
     },
     "metadata": {},
     "output_type": "display_data"
    }
   ],
   "source": [
    "warmup_steps = 0\n",
    "plot_comparison(start_idx=1, length=100, train=True)"
   ]
  },
  {
   "cell_type": "code",
   "execution_count": 37,
   "metadata": {
    "_uuid": "808124d07855044d7ea0808061e8b2bb5d4bbfd6"
   },
   "outputs": [
    {
     "name": "stdout",
     "output_type": "stream",
     "text": [
      "(1, 11, 32)\n",
      "[284.1594  283.00632 285.67288 288.2699  287.7456  287.53223 287.0444\n",
      " 288.1984  290.28363 289.57422 289.99585]\n",
      "[284.678 283.764 286.278 283.33  276.043 275.491 280.692 286.254 300.654\n",
      " 301.45  296.531]\n"
     ]
    },
    {
     "data": {
      "image/png": "[encoded data removed]",
      "text/plain": [
       "<matplotlib.figure.Figure at 0x7ff85c2ab588>"
      ]
     },
     "metadata": {},
     "output_type": "display_data"
    }
   ],
   "source": [
    "plot_comparison(start_idx=1, length=100, train=False)"
   ]
  },
  {
   "cell_type": "code",
   "execution_count": 38,
   "metadata": {
    "_uuid": "5131b5ec730573e057fc35abf02b986b36f9889e",
    "collapsed": true
   },
   "outputs": [],
   "source": [
    "predict = np.expand_dims(x_scalerx_scaler.fit_transform(test_df[feature_columns]), axis=0)"
   ]
  },
  {
   "cell_type": "code",
   "execution_count": 39,
   "metadata": {
    "_uuid": "a0765b2fda5445b302b400c34616f772dd778111"
   },
   "outputs": [
    {
     "data": {
      "text/plain": [
       "(1, 12, 32)"
      ]
     },
     "execution_count": 39,
     "metadata": {},
     "output_type": "execute_result"
    }
   ],
   "source": [
    "predict.shape"
   ]
  },
  {
   "cell_type": "code",
   "execution_count": 40,
   "metadata": {
    "_uuid": "09eda494b11730119e53a8cd2fd43ec72bb74d2e",
    "collapsed": true
   },
   "outputs": [],
   "source": [
    "predcicted_values = model.predict(predict)"
   ]
  },
  {
   "cell_type": "code",
   "execution_count": 41,
   "metadata": {
    "_uuid": "c7a6c53f72ba0149cf547d1fa8cda85f7669a882"
   },
   "outputs": [
    {
     "data": {
      "text/plain": [
       "array([[[287.40634],\n",
       "        [283.7732 ],\n",
       "        [285.87393],\n",
       "        [287.63458],\n",
       "        [289.72485],\n",
       "        [290.91916],\n",
       "        [291.09503],\n",
       "        [290.7161 ],\n",
       "        [289.86084],\n",
       "        [290.28564],\n",
       "        [288.4873 ],\n",
       "        [287.9462 ]]], dtype=float32)"
      ]
     },
     "execution_count": 41,
     "metadata": {},
     "output_type": "execute_result"
    }
   ],
   "source": [
    "predcicted_values"
   ]
  }
 ],
 "metadata": {
  "kernelspec": {
   "display_name": "Python 3",
   "language": "python",
   "name": "python3"
  },
  "language_info": {
   "codemirror_mode": {
    "name": "ipython",
    "version": 3
   },
   "file_extension": ".py",
   "mimetype": "text/x-python",
   "name": "python",
   "nbconvert_exporter": "python",
   "pygments_lexer": "ipython3",
   "version": "3.5.5"
  }
 },
 "nbformat": 4,
 "nbformat_minor": 1
}
